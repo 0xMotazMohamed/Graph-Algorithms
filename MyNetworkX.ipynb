{
  "nbformat": 4,
  "nbformat_minor": 0,
  "metadata": {
    "colab": {
      "provenance": [],
      "authorship_tag": "ABX9TyMRtxqQBElMFePCXpIu5d4u",
      "include_colab_link": true
    },
    "kernelspec": {
      "name": "python3",
      "display_name": "Python 3"
    },
    "language_info": {
      "name": "python"
    }
  },
  "cells": [
    {
      "cell_type": "markdown",
      "metadata": {
        "id": "view-in-github",
        "colab_type": "text"
      },
      "source": [
        "<a href=\"https://colab.research.google.com/github/0xMotazMohamed/Graph-Algorithms/blob/main/MyNetworkX.ipynb\" target=\"_parent\"><img src=\"https://colab.research.google.com/assets/colab-badge.svg\" alt=\"Open In Colab\"/></a>"
      ]
    },
    {
      "cell_type": "code",
      "execution_count": 53,
      "metadata": {
        "id": "0Ruk1Ge9mESC"
      },
      "outputs": [],
      "source": [
        "# using NetworkX API\n",
        "# using Nodes & Edges (Graphs)\n",
        "\n",
        "import networkx as nx\n",
        "\n",
        "#insializing an empty Graph for Nodes and Edges\n",
        "\n",
        "G = nx.Graph()          # undirected\n",
        "# G = nx.DiGraph()      # directed, if you need edge direction"
      ]
    },
    {
      "cell_type": "code",
      "source": [
        "#Add One Node at a time\n",
        "\n",
        "G.add_node(0)                 # plain node\n",
        "#G.add_node(42, weight=3.5)      # node with an attribute"
      ],
      "metadata": {
        "id": "d0sFOzWPqAnK"
      },
      "execution_count": 54,
      "outputs": []
    },
    {
      "cell_type": "code",
      "source": [
        "#Add Many at once\n",
        "\n",
        "# Plain list/iterable of node labels\n",
        "G.add_nodes_from([1, 2, 3, 4])"
      ],
      "metadata": {
        "id": "Tn8MzOM9qSXC"
      },
      "execution_count": 55,
      "outputs": []
    },
    {
      "cell_type": "code",
      "source": [
        "# View all nodes in the graph.  This returns a NodeView; wrap with list()\n",
        "G.nodes()"
      ],
      "metadata": {
        "id": "7ji3gGqvnFXk",
        "colab": {
          "base_uri": "https://localhost:8080/"
        },
        "outputId": "6fe4e962-abc0-44b2-e499-8c0c31fd53c5"
      },
      "execution_count": 56,
      "outputs": [
        {
          "output_type": "execute_result",
          "data": {
            "text/plain": [
              "NodeView((0, 1, 2, 3, 4))"
            ]
          },
          "metadata": {},
          "execution_count": 56
        }
      ]
    },
    {
      "cell_type": "code",
      "source": [
        "G.add_edges_from([(0,1),(1,2),(2,3),(3,4),(4,0)])"
      ],
      "metadata": {
        "id": "0on_vLX1twWf"
      },
      "execution_count": 61,
      "outputs": []
    },
    {
      "cell_type": "code",
      "source": [
        "# View all edges in the graph as (u, v) tuples.  This is an EdgeView; use\n",
        "G.edges()"
      ],
      "metadata": {
        "id": "yFfuj1PmnMsm",
        "colab": {
          "base_uri": "https://localhost:8080/"
        },
        "outputId": "ce99138a-8f7e-438c-d400-c9bbe0d18377"
      },
      "execution_count": 62,
      "outputs": [
        {
          "output_type": "execute_result",
          "data": {
            "text/plain": [
              "EdgeView([(0, 1), (0, 4), (1, 2), (2, 3), (3, 4)])"
            ]
          },
          "metadata": {},
          "execution_count": 62
        }
      ]
    },
    {
      "cell_type": "code",
      "source": [
        "nx.draw(G)\n",
        "from matplotlib import pyplot as plt\n",
        "plt.show()"
      ],
      "metadata": {
        "id": "mvNJKaOzoEia",
        "colab": {
          "base_uri": "https://localhost:8080/",
          "height": 516
        },
        "outputId": "c53f9b9c-7162-4574-9f98-229b5b7c2e35"
      },
      "execution_count": 79,
      "outputs": [
        {
          "output_type": "display_data",
          "data": {
            "text/plain": [
              "<Figure size 640x480 with 1 Axes>"
            ],
            "image/png": "[encoded data removed]"
          },
          "metadata": {}
        }
      ]
    },
    {
      "cell_type": "code",
      "source": [],
      "metadata": {
        "id": "VrYLim7ZuMf6"
      },
      "execution_count": 77,
      "outputs": []
    }
  ]
}